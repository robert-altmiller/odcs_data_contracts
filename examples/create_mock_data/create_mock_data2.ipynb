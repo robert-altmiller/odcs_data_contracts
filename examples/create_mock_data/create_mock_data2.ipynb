{
 "cells": [
  {
   "cell_type": "code",
   "execution_count": 0,
   "metadata": {
    "application/vnd.databricks.v1+cell": {
     "cellMetadata": {
      "byteLimit": 2048000,
      "rowLimit": 10000
     },
     "inputWidgets": {},
     "nuid": "929e65ab-3543-4050-b4bd-068f3463275f",
     "showTitle": true,
     "tableResultSettingsMap": {},
     "title": "Local Parameters"
    }
   },
   "outputs": [],
   "source": [
    "catalog = \"hive_metastore\"\n",
    "schema = \"default\"\n",
    "table = \"customer\""
   ]
  },
  {
   "cell_type": "code",
   "execution_count": 0,
   "metadata": {
    "application/vnd.databricks.v1+cell": {
     "cellMetadata": {
      "byteLimit": 2048000,
      "rowLimit": 10000
     },
     "inputWidgets": {},
     "nuid": "2f661873-14ac-4b8b-abfc-19afbbae7709",
     "showTitle": true,
     "tableResultSettingsMap": {},
     "title": "Drop a SQL Table"
    }
   },
   "outputs": [],
   "source": [
    "result = spark.sql(f\"DROP TABLE IF EXISTS `{catalog}`.`{schema}`.`{table}`\")\n",
    "display(result)"
   ]
  },
  {
   "cell_type": "code",
   "execution_count": 0,
   "metadata": {
    "application/vnd.databricks.v1+cell": {
     "cellMetadata": {
      "byteLimit": 2048000,
      "rowLimit": 10000
     },
     "inputWidgets": {},
     "nuid": "3c9d3311-d4f7-4678-9d54-7c148c217904",
     "showTitle": true,
     "tableResultSettingsMap": {},
     "title": "Create a SQL Table"
    }
   },
   "outputs": [],
   "source": [
    "SQL = f\"\"\"\n",
    "  CREATE TABLE IF NOT EXISTS {catalog}.{schema}.{table} (\n",
    "    customer_id INT,\n",
    "    first_name STRING,\n",
    "    last_name STRING,\n",
    "    email STRING,\n",
    "    phone STRING,\n",
    "    address STRING,\n",
    "    city STRING,\n",
    "    state STRING,\n",
    "    zip_code DOUBLE,\n",
    "    join_date DATE\n",
    ")\n",
    "USING DELTA;\n",
    "\"\"\"\n",
    "spark.sql(SQL)"
   ]
  },
  {
   "cell_type": "code",
   "execution_count": 0,
   "metadata": {
    "application/vnd.databricks.v1+cell": {
     "cellMetadata": {
      "byteLimit": 2048000,
      "rowLimit": 10000
     },
     "inputWidgets": {},
     "nuid": "fd4457e1-7b9d-4d0f-9887-65f6c4352cca",
     "showTitle": true,
     "tableResultSettingsMap": {},
     "title": "Insert 100 Rows of Data"
    }
   },
   "outputs": [],
   "source": [
    "SQL = f\"\"\"\n",
    "INSERT INTO {catalog}.{schema}.{table}\n",
    "SELECT \n",
    "    id AS customer_id,\n",
    "    CASE WHEN id % 2 = 0 THEN 'John' ELSE 'Jane' END AS first_name,\n",
    "    CASE WHEN id % 2 = 0 THEN 'Doe' ELSE 'Smith' END AS last_name,\n",
    "    CONCAT('customer', id, '@example.com') AS email,\n",
    "    CONCAT('+1-555-0', LPAD(id, 3, '0')) AS phone,\n",
    "    CONCAT('123', id, ' Main St') AS address,\n",
    "    CASE WHEN id % 5 = 0 THEN 'New York' \n",
    "         WHEN id % 5 = 1 THEN 'Los Angeles'\n",
    "         WHEN id % 5 = 2 THEN 'Chicago'\n",
    "         WHEN id % 5 = 3 THEN 'Houston'\n",
    "         ELSE 'San Francisco' END AS city,\n",
    "    CASE WHEN id % 5 = 0 THEN 'NY' \n",
    "         WHEN id % 5 = 1 THEN 'CA'\n",
    "         WHEN id % 5 = 2 THEN 'IL'\n",
    "         WHEN id % 5 = 3 THEN 'TX'\n",
    "         ELSE 'CA' END AS state,\n",
    "    LPAD(CAST((10000 + id) AS STRING), 5, '0') AS zip_code,\n",
    "    DATE_ADD('2020-01-01', id % 365) AS join_date\n",
    "FROM (\n",
    "    SELECT EXPLODE(SEQUENCE(1, 100)) AS id\n",
    ");\n",
    "\"\"\"\n",
    "spark.sql(SQL)"
   ]
  }
 ],
 "metadata": {
  "application/vnd.databricks.v1+notebook": {
   "computePreferences": null,
   "dashboards": [],
   "environmentMetadata": {
    "base_environment": "",
    "environment_version": "2"
   },
   "inputWidgetPreferences": null,
   "language": "python",
   "notebookMetadata": {
    "pythonIndentUnit": 4
   },
   "notebookName": "create_mock_data2",
   "widgets": {}
  },
  "language_info": {
   "name": "python"
  }
 },
 "nbformat": 4,
 "nbformat_minor": 0
}
