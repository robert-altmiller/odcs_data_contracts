{
 "cells": [
  {
   "cell_type": "code",
   "execution_count": 0,
   "metadata": {
    "application/vnd.databricks.v1+cell": {
     "cellMetadata": {
      "byteLimit": 2048000,
      "rowLimit": 10000
     },
     "inputWidgets": {},
     "nuid": "929e65ab-3543-4050-b4bd-068f3463275f",
     "showTitle": true,
     "tableResultSettingsMap": {},
     "title": "Local Parameters"
    }
   },
   "outputs": [],
   "source": [
    "catalog = \"hive_metastore\"\n",
    "schema = \"default\"\n",
    "table = \"my_managed_table\""
   ]
  },
  {
   "cell_type": "code",
   "execution_count": 0,
   "metadata": {
    "application/vnd.databricks.v1+cell": {
     "cellMetadata": {
      "byteLimit": 2048000,
      "rowLimit": 10000
     },
     "inputWidgets": {},
     "nuid": "7ca00bd3-f3ae-4a47-8060-5f6ad2374494",
     "showTitle": true,
     "tableResultSettingsMap": {},
     "title": "Create Table"
    }
   },
   "outputs": [],
   "source": [
    "from pyspark.sql.types import StructType, StructField, IntegerType, StringType\n",
    "\n",
    "# Step 2: Define Schema for the Table\n",
    "dataschema = StructType([\n",
    "    StructField(\"id\", IntegerType(), False),\n",
    "    StructField(\"name\", StringType(), False),\n",
    "    StructField(\"age\", IntegerType(), False),\n",
    "    StructField(\"city\", StringType(), False)\n",
    "])\n",
    "\n",
    "# Step 3: Create Sample Data\n",
    "data = [\n",
    "    (1, \"Alice\", 25, \"New York\"),\n",
    "    (2, \"Bob\", 30, \"San Francisco\"),\n",
    "    (3, \"Charlie\", 35, \"Los Angeles\"),\n",
    "    (4, \"David\", 40, \"Chicago\"),\n",
    "    (5, \"Eve\", 28, \"Houston\"),\n",
    "    (6, \"Frank\", 33, \"Phoenix\"),\n",
    "    (7, \"Grace\", 29, \"Seattle\"),\n",
    "    (8, \"Hank\", 42, \"Miami\"),\n",
    "    (9, \"Ivy\", 31, \"Denver\"),\n",
    "    (10, \"Jack\", 36, \"Boston\")\n",
    "]\n",
    "\n",
    "# Step 4: Create DataFrame\n",
    "df = spark.createDataFrame(data, schema=dataschema)\n",
    "df.write.mode(\"overwrite\").option(\"overwriteSchema\", \"true\").format(\"delta\").saveAsTable(f\"{catalog}.{schema}.{table}\")"
   ]
  },
  {
   "cell_type": "code",
   "execution_count": 0,
   "metadata": {
    "application/vnd.databricks.v1+cell": {
     "cellMetadata": {
      "byteLimit": 2048000,
      "rowLimit": 10000
     },
     "inputWidgets": {},
     "nuid": "22ffb9cc-c0eb-4ccb-98a9-dcd3557bac12",
     "showTitle": true,
     "tableResultSettingsMap": {},
     "title": "Truncate Table Data"
    }
   },
   "outputs": [],
   "source": [
    "spark.sql(f\"TRUNCATE TABLE {catalog}.{schema}.{table};\")"
   ]
  },
  {
   "cell_type": "code",
   "execution_count": 0,
   "metadata": {
    "application/vnd.databricks.v1+cell": {
     "cellMetadata": {
      "byteLimit": 2048000,
      "rowLimit": 10000
     },
     "inputWidgets": {},
     "nuid": "eb96e7da-ea10-4511-ba32-b20bb4d4af04",
     "showTitle": true,
     "tableResultSettingsMap": {},
     "title": "Drop a Schema with Cascade"
    }
   },
   "outputs": [],
   "source": [
    "spark.sql(\"DROP SCHEMA default4 CASCADE\")"
   ]
  }
 ],
 "metadata": {
  "application/vnd.databricks.v1+notebook": {
   "computePreferences": null,
   "dashboards": [],
   "environmentMetadata": {
    "base_environment": "",
    "environment_version": "2"
   },
   "inputWidgetPreferences": null,
   "language": "python",
   "notebookMetadata": {
    "pythonIndentUnit": 4
   },
   "notebookName": "create_mock_data1",
   "widgets": {}
  },
  "language_info": {
   "name": "python"
  }
 },
 "nbformat": 4,
 "nbformat_minor": 0
}
