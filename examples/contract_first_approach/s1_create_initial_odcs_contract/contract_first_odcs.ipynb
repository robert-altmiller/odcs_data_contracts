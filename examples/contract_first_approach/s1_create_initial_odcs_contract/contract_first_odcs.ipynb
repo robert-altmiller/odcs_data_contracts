{
 "cells": [
  {
   "cell_type": "code",
   "execution_count": 0,
   "metadata": {
    "application/vnd.databricks.v1+cell": {
     "cellMetadata": {
      "byteLimit": 2048000,
      "rowLimit": 10000
     },
     "inputWidgets": {},
     "nuid": "4ea1e097-e1b9-4839-9339-25502f373559",
     "showTitle": true,
     "tableResultSettingsMap": {},
     "title": "Import helper functions"
    }
   },
   "outputs": [],
   "source": [
    "%run ./contract_first_helpers"
   ]
  },
  {
   "cell_type": "code",
   "execution_count": 0,
   "metadata": {
    "application/vnd.databricks.v1+cell": {
     "cellMetadata": {
      "byteLimit": 2048000,
      "rowLimit": 10000
     },
     "inputWidgets": {},
     "nuid": "4061539d-5c2e-4204-86ef-60dd76deb64f",
     "showTitle": true,
     "tableResultSettingsMap": {},
     "title": "Import packages"
    }
   },
   "outputs": [],
   "source": [
    "import os\n",
    "import json\n",
    "import yaml\n",
    "from datacontract.data_contract import DataContract"
   ]
  },
  {
   "cell_type": "code",
   "execution_count": 0,
   "metadata": {
    "application/vnd.databricks.v1+cell": {
     "cellMetadata": {
      "byteLimit": 2048000,
      "rowLimit": 10000
     },
     "inputWidgets": {},
     "nuid": "93112c3b-bd85-4de4-b5a0-a53c9b45b763",
     "showTitle": true,
     "tableResultSettingsMap": {},
     "title": "Read Job Parameters"
    }
   },
   "outputs": [],
   "source": [
    "dbutils.widgets.removeAll()\n",
    "\n",
    "dbutils.widgets.text(\"contracts_location\", \"/Volumes/flightstats_historical_dev_azr_westus/data_contract_test/contracts/\")\n",
    "dbutils.widgets.text(\"contract_json_file\", \"flight_stats.json\")\n",
    "dbutils.widgets.text(\"odcs_template_file\", \"odcs_template.yml\")\n",
    "\n",
    "contracts_location = dbutils.widgets.get(\"contracts_location\")\n",
    "contract_json_file = dbutils.widgets.get(\"contract_json_file\")\n",
    "odcs_template_file = dbutils.widgets.get(\"odcs_template_file\")\n",
    "\n"
   ]
  },
  {
   "cell_type": "code",
   "execution_count": 0,
   "metadata": {
    "application/vnd.databricks.v1+cell": {
     "cellMetadata": {
      "byteLimit": 2048000,
      "rowLimit": 10000
     },
     "inputWidgets": {},
     "nuid": "d0d962b7-e290-47b2-bbcc-c28e0e5dacfc",
     "showTitle": true,
     "tableResultSettingsMap": {},
     "title": "Create Contract Properties"
    }
   },
   "outputs": [],
   "source": [
    "host = spark.conf.get(\"spark.databricks.workspaceUrl\")\n",
    "environment = \"development\""
   ]
  },
  {
   "cell_type": "code",
   "execution_count": 0,
   "metadata": {
    "application/vnd.databricks.v1+cell": {
     "cellMetadata": {
      "byteLimit": 2048000,
      "rowLimit": 10000
     },
     "inputWidgets": {},
     "nuid": "c8877f6e-d48e-448a-8a31-5a41001d1fb1",
     "showTitle": true,
     "tableResultSettingsMap": {},
     "title": "Contracts Input and output paths"
    }
   },
   "outputs": [],
   "source": [
    "contract_json_path = f\"{contracts_location}{contract_json_file}\"\n",
    "odcs_template_path = f\"{contracts_location}{odcs_template_file}\"\n",
    "\n",
    "filename_with_extension = os.path.basename(contract_json_file)\n",
    "filename_without_extension = os.path.splitext(filename_with_extension)[0]\n",
    "\n",
    "odcs_yaml_path = f\"{contracts_location}/{filename_without_extension}.yml\""
   ]
  },
  {
   "cell_type": "code",
   "execution_count": 0,
   "metadata": {
    "application/vnd.databricks.v1+cell": {
     "cellMetadata": {
      "byteLimit": 2048000,
      "rowLimit": 10000
     },
     "inputWidgets": {},
     "nuid": "5f07edc2-4d5d-45d6-b15b-846907c7176c",
     "showTitle": true,
     "tableResultSettingsMap": {},
     "title": "Function to write ODCS contract to the specified  location"
    }
   },
   "outputs": [],
   "source": [
    "def create_odcs_yaml(odcs, yaml_file):\n",
    "    # Convert the provided odcs object to a YAML string representation\n",
    "    yaml_string = yaml.dump(odcs, default_flow_style=False)\n",
    "    # Write the YAML representation to the specified file\n",
    "    with open(yaml_file, 'w') as file:\n",
    "        yaml.dump(odcs, file, default_flow_style=False)"
   ]
  },
  {
   "cell_type": "code",
   "execution_count": 0,
   "metadata": {
    "application/vnd.databricks.v1+cell": {
     "cellMetadata": {
      "byteLimit": 2048000,
      "rowLimit": 10000
     },
     "inputWidgets": {},
     "nuid": "21852d29-6b19-4257-be0a-b0ea2c9e0d1a",
     "showTitle": true,
     "tableResultSettingsMap": {},
     "title": "Generate ODCS Contract"
    }
   },
   "outputs": [],
   "source": [
    "\n",
    "odcs = convert_json_to_odcs(contract_json_path, odcs_template_path, host, environment)\n"
   ]
  },
  {
   "cell_type": "code",
   "execution_count": 0,
   "metadata": {
    "application/vnd.databricks.v1+cell": {
     "cellMetadata": {},
     "inputWidgets": {},
     "nuid": "dc2a20cd-0188-4a11-a538-9a6f2cf42370",
     "showTitle": false,
     "tableResultSettingsMap": {},
     "title": ""
    }
   },
   "outputs": [],
   "source": [
    "create_odcs_yaml(odcs, odcs_yaml_path)"
   ]
  },
  {
   "cell_type": "code",
   "execution_count": 0,
   "metadata": {
    "application/vnd.databricks.v1+cell": {
     "cellMetadata": {
      "byteLimit": 2048000,
      "rowLimit": 10000
     },
     "inputWidgets": {},
     "nuid": "078ecae1-70e3-4414-8de2-499b1cc009d8",
     "showTitle": false,
     "tableResultSettingsMap": {},
     "title": ""
    }
   },
   "outputs": [],
   "source": [
    "data_contract = DataContract(data_contract_file=odcs_yaml_path, spark=spark)\n",
    "\n",
    "result = []\n",
    "for check in data_contract.lint().checks:\n",
    "    if check.reason is None:\n",
    "        continue\n",
    "    result.append({\"reason\": check.reason, \"result\": str(check.result)})\n",
    "\n",
    "spark.createDataFrame(result).display()\n"
   ]
  },
  {
   "cell_type": "code",
   "execution_count": 0,
   "metadata": {
    "application/vnd.databricks.v1+cell": {
     "cellMetadata": {},
     "inputWidgets": {},
     "nuid": "ccd5262e-9909-43cd-aea5-c7aa0df3caf0",
     "showTitle": false,
     "tableResultSettingsMap": {},
     "title": ""
    }
   },
   "outputs": [],
   "source": []
  }
 ],
 "metadata": {
  "application/vnd.databricks.v1+notebook": {
   "computePreferences": null,
   "dashboards": [],
   "environmentMetadata": {
    "base_environment": "",
    "environment_version": "2"
   },
   "inputWidgetPreferences": null,
   "language": "python",
   "notebookMetadata": {
    "mostRecentlyExecutedCommandWithImplicitDF": {
     "commandId": 7100922545687615,
     "dataframes": [
      "_sqldf"
     ]
    },
    "pythonIndentUnit": 4
   },
   "notebookName": "contract_first_odcs",
   "widgets": {
    "contract_json_file": {
     "currentValue": "flight_stats.json",
     "nuid": "fe03f3ce-53a4-4e80-9165-dd6e4676649f",
     "typedWidgetInfo": {
      "autoCreated": false,
      "defaultValue": "flight_stats.json",
      "label": null,
      "name": "contract_json_file",
      "options": {
       "widgetDisplayType": "Text",
       "validationRegex": null
      },
      "parameterDataType": "String"
     },
     "widgetInfo": {
      "widgetType": "text",
      "defaultValue": "flight_stats.json",
      "label": null,
      "name": "contract_json_file",
      "options": {
       "widgetType": "text",
       "autoCreated": null,
       "validationRegex": null
      }
     }
    },
    "contracts_location": {
     "currentValue": "/Volumes/flightstats_historical_dev_azr_westus/data_contract_test/contracts/",
     "nuid": "03a54779-37f9-46df-8663-51a94f77b7a6",
     "typedWidgetInfo": {
      "autoCreated": false,
      "defaultValue": "/Volumes/flightstats_historical_dev_azr_westus/data_contract_test/contracts/",
      "label": null,
      "name": "contracts_location",
      "options": {
       "widgetDisplayType": "Text",
       "validationRegex": null
      },
      "parameterDataType": "String"
     },
     "widgetInfo": {
      "widgetType": "text",
      "defaultValue": "/Volumes/flightstats_historical_dev_azr_westus/data_contract_test/contracts/",
      "label": null,
      "name": "contracts_location",
      "options": {
       "widgetType": "text",
       "autoCreated": null,
       "validationRegex": null
      }
     }
    },
    "odcs_template_file": {
     "currentValue": "odcs_template.yml",
     "nuid": "50bf60ab-79d8-4eff-80d0-be6c3d276d4c",
     "typedWidgetInfo": {
      "autoCreated": false,
      "defaultValue": "odcs_template.yml",
      "label": null,
      "name": "odcs_template_file",
      "options": {
       "widgetDisplayType": "Text",
       "validationRegex": null
      },
      "parameterDataType": "String"
     },
     "widgetInfo": {
      "widgetType": "text",
      "defaultValue": "odcs_template.yml",
      "label": null,
      "name": "odcs_template_file",
      "options": {
       "widgetType": "text",
       "autoCreated": null,
       "validationRegex": null
      }
     }
    }
   }
  },
  "language_info": {
   "name": "python"
  }
 },
 "nbformat": 4,
 "nbformat_minor": 0
}
