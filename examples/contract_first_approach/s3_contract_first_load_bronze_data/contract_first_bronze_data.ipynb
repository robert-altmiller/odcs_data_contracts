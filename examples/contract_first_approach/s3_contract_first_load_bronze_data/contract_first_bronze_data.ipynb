{
 "cells": [
  {
   "cell_type": "code",
   "execution_count": 0,
   "metadata": {
    "application/vnd.databricks.v1+cell": {
     "cellMetadata": {
      "byteLimit": 2048000,
      "rowLimit": 10000
     },
     "inputWidgets": {},
     "nuid": "444e9ada-3583-4353-8e82-188cc466cf9b",
     "showTitle": false,
     "tableResultSettingsMap": {},
     "title": ""
    }
   },
   "outputs": [],
   "source": [
    "dbutils.widgets.removeAll()"
   ]
  },
  {
   "cell_type": "code",
   "execution_count": 0,
   "metadata": {
    "application/vnd.databricks.v1+cell": {
     "cellMetadata": {
      "byteLimit": 2048000,
      "rowLimit": 10000
     },
     "inputWidgets": {},
     "nuid": "279284c1-ffb9-4412-ac01-79925a3b3ff4",
     "showTitle": false,
     "tableResultSettingsMap": {},
     "title": ""
    }
   },
   "outputs": [],
   "source": [
    "dbutils.widgets.text(\"source_catalog\", \"flightstats_historical_dev_azr_westus\")\n",
    "source_catalog = dbutils.widgets.get(\"source_catalog\")\n",
    "\n",
    "dbutils.widgets.text(\"source_schema\", \"silver\")\n",
    "source_schema = dbutils.widgets.get(\"source_schema\")\n",
    "\n",
    "dbutils.widgets.text(\"source_table\", \"flightstats_clean\")\n",
    "source_table = dbutils.widgets.get(\"source_table\")"
   ]
  },
  {
   "cell_type": "code",
   "execution_count": 0,
   "metadata": {
    "application/vnd.databricks.v1+cell": {
     "cellMetadata": {
      "byteLimit": 2048000,
      "rowLimit": 10000
     },
     "inputWidgets": {},
     "nuid": "19324bb4-bc65-4b18-b2c6-5903e7823d69",
     "showTitle": false,
     "tableResultSettingsMap": {},
     "title": ""
    }
   },
   "outputs": [],
   "source": [
    "tables_config = {\n",
    "    \"flightstats_historical_dev_azr_westus\": {\n",
    "        \"silver\": {\n",
    "            \"flightstats_clean\": {\n",
    "                \"target_catalog\": \"flightstats_historical_dev_azr_westus\",\n",
    "                \"target_schema\": \"data_contract_dev\",\n",
    "                \"target_table\": \"flightstats\",\n",
    "                \"projected_cols\": \"departure_airport,departure_gate,economy_number_of_seats,aircraftmanufacturer,fs_operating_airline_code as airline,operating_flight_number as flight_number\",\n",
    "            }\n",
    "        }\n",
    "    }\n",
    "}"
   ]
  },
  {
   "cell_type": "code",
   "execution_count": 0,
   "metadata": {
    "application/vnd.databricks.v1+cell": {
     "cellMetadata": {
      "byteLimit": 2048000,
      "rowLimit": 10000
     },
     "inputWidgets": {},
     "nuid": "8c9582d5-61ff-48d7-990e-acfa10b90766",
     "showTitle": false,
     "tableResultSettingsMap": {},
     "title": ""
    }
   },
   "outputs": [],
   "source": [
    "catalog_config = tables_config.get(source_catalog)\n",
    "schema_config = catalog_config.get(source_schema)\n",
    "src_table_config = schema_config.get(source_table)\n",
    "target_catalog = src_table_config.get(\"target_catalog\")\n",
    "target_schema = src_table_config.get(\"target_schema\")\n",
    "target_table = src_table_config.get(\"target_table\")\n",
    "projected_cols = src_table_config.get(\"projected_cols\")"
   ]
  },
  {
   "cell_type": "code",
   "execution_count": 0,
   "metadata": {
    "application/vnd.databricks.v1+cell": {
     "cellMetadata": {
      "byteLimit": 2048000,
      "rowLimit": 10000
     },
     "inputWidgets": {},
     "nuid": "863ac71f-0568-4089-99d6-b2ecc05662df",
     "showTitle": false,
     "tableResultSettingsMap": {},
     "title": ""
    }
   },
   "outputs": [],
   "source": [
    "df = (\n",
    "    spark.sql(\n",
    "        f\"\"\"select {projected_cols} from {source_catalog}.{source_schema}.{source_table}\"\"\"\n",
    "    )\n",
    "    .filter(\n",
    "        \"departure_airport is not null and departure_gate is not null and economy_number_of_seats is not null and aircraftmanufacturer is not null and airline is not null and flight_number is not null\"\n",
    "    )\n",
    "    .limit(1000)\n",
    ")\n",
    "\n",
    "df.printSchema()"
   ]
  },
  {
   "cell_type": "code",
   "execution_count": 0,
   "metadata": {
    "application/vnd.databricks.v1+cell": {
     "cellMetadata": {
      "byteLimit": 2048000,
      "rowLimit": 10000
     },
     "inputWidgets": {},
     "nuid": "e2f8c57d-be40-4ca4-872c-594908d1420a",
     "showTitle": false,
     "tableResultSettingsMap": {},
     "title": ""
    }
   },
   "outputs": [],
   "source": [
    "target_table_df = spark.table(f\"{target_catalog}.{target_schema}.{target_table}\")\n",
    "target_table_df.printSchema()\n",
    "for col, dtype in target_table_df.dtypes:\n",
    "    df = df.withColumn(col, df[col].cast(dtype))\n"
   ]
  },
  {
   "cell_type": "code",
   "execution_count": 0,
   "metadata": {
    "application/vnd.databricks.v1+cell": {
     "cellMetadata": {
      "byteLimit": 2048000,
      "rowLimit": 10000
     },
     "inputWidgets": {},
     "nuid": "59c07b0e-131a-4242-8e36-1fbc7c47ebc3",
     "showTitle": false,
     "tableResultSettingsMap": {},
     "title": ""
    }
   },
   "outputs": [],
   "source": [
    "df.write.mode(\"overwrite\").option(\"mergeSchema\", \"true\").saveAsTable(f\"{target_catalog}.{target_schema}.{target_table}\")"
   ]
  }
 ],
 "metadata": {
  "application/vnd.databricks.v1+notebook": {
   "computePreferences": null,
   "dashboards": [],
   "environmentMetadata": {
    "base_environment": "",
    "environment_version": "2"
   },
   "inputWidgetPreferences": null,
   "language": "python",
   "notebookMetadata": {
    "mostRecentlyExecutedCommandWithImplicitDF": {
     "commandId": 6260943939644738,
     "dataframes": [
      "_sqldf"
     ]
    },
    "pythonIndentUnit": 4
   },
   "notebookName": "contract_first_bronze_data",
   "widgets": {
    "source_catalog": {
     "currentValue": "flightstats_historical_dev_azr_westus",
     "nuid": "bc15ba95-9eab-4e4c-a59d-c613480d2985",
     "typedWidgetInfo": {
      "autoCreated": false,
      "defaultValue": "flightstats_historical_dev_azr_westus",
      "label": null,
      "name": "source_catalog",
      "options": {
       "widgetDisplayType": "Text",
       "validationRegex": null
      },
      "parameterDataType": "String"
     },
     "widgetInfo": {
      "widgetType": "text",
      "defaultValue": "flightstats_historical_dev_azr_westus",
      "label": null,
      "name": "source_catalog",
      "options": {
       "widgetType": "text",
       "autoCreated": null,
       "validationRegex": null
      }
     }
    },
    "source_schema": {
     "currentValue": "silver",
     "nuid": "5b824553-02ea-4b91-af47-441b297b41be",
     "typedWidgetInfo": {
      "autoCreated": false,
      "defaultValue": "silver",
      "label": null,
      "name": "source_schema",
      "options": {
       "widgetDisplayType": "Text",
       "validationRegex": null
      },
      "parameterDataType": "String"
     },
     "widgetInfo": {
      "widgetType": "text",
      "defaultValue": "silver",
      "label": null,
      "name": "source_schema",
      "options": {
       "widgetType": "text",
       "autoCreated": null,
       "validationRegex": null
      }
     }
    },
    "source_table": {
     "currentValue": "flightstats_clean",
     "nuid": "a769488b-a498-4baa-af16-a6cdb20203e5",
     "typedWidgetInfo": {
      "autoCreated": false,
      "defaultValue": "flightstats_clean",
      "label": null,
      "name": "source_table",
      "options": {
       "widgetDisplayType": "Text",
       "validationRegex": null
      },
      "parameterDataType": "String"
     },
     "widgetInfo": {
      "widgetType": "text",
      "defaultValue": "flightstats_clean",
      "label": null,
      "name": "source_table",
      "options": {
       "widgetType": "text",
       "autoCreated": null,
       "validationRegex": null
      }
     }
    }
   }
  },
  "language_info": {
   "name": "python"
  }
 },
 "nbformat": 4,
 "nbformat_minor": 0
}
