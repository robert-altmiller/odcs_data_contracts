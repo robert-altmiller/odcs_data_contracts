{
 "cells": [
  {
   "cell_type": "code",
   "execution_count": 0,
   "metadata": {
    "application/vnd.databricks.v1+cell": {
     "cellMetadata": {
      "byteLimit": 2048000,
      "rowLimit": 10000
     },
     "inputWidgets": {},
     "nuid": "fd580278-048c-4bd3-abaf-935a5fe78090",
     "showTitle": false,
     "tableResultSettingsMap": {},
     "title": ""
    }
   },
   "outputs": [],
   "source": [
    "%run ./contract_first_helpers"
   ]
  },
  {
   "cell_type": "code",
   "execution_count": 0,
   "metadata": {
    "application/vnd.databricks.v1+cell": {
     "cellMetadata": {
      "byteLimit": 2048000,
      "rowLimit": 10000
     },
     "inputWidgets": {},
     "nuid": "2e27caf6-1443-4f49-bcc3-b40b9d61a058",
     "showTitle": false,
     "tableResultSettingsMap": {},
     "title": ""
    }
   },
   "outputs": [],
   "source": [
    "dbutils.widgets.removeAll()\n",
    "dbutils.widgets.text(\"odcs_contract_file\", \"flight_stats.yml\")\n",
    "dbutils.widgets.text(\"contracts_location\", \"/Volumes/flightstats_historical_dev_azr_westus/data_contract_test/contracts/\")\n",
    "\n",
    "contracts_location = dbutils.widgets.get(\"contracts_location\")\n",
    "contract_file = dbutils.widgets.get(\"odcs_contract_file\")\n",
    "contract_path = f\"{contracts_location}{contract_file}\""
   ]
  },
  {
   "cell_type": "code",
   "execution_count": 0,
   "metadata": {
    "application/vnd.databricks.v1+cell": {
     "cellMetadata": {
      "byteLimit": 2048000,
      "rowLimit": 10000
     },
     "inputWidgets": {},
     "nuid": "31dd2cf4-1b0d-4e35-9862-7d3f87a148da",
     "showTitle": false,
     "tableResultSettingsMap": {},
     "title": ""
    }
   },
   "outputs": [],
   "source": [
    "create_tables(contract_path)"
   ]
  }
 ],
 "metadata": {
  "application/vnd.databricks.v1+notebook": {
   "computePreferences": null,
   "dashboards": [],
   "environmentMetadata": {
    "base_environment": "",
    "environment_version": "2"
   },
   "inputWidgetPreferences": null,
   "language": "python",
   "notebookMetadata": {
    "pythonIndentUnit": 4
   },
   "notebookName": "contract_first_deploy_tables",
   "widgets": {
    "contracts_location": {
     "currentValue": "/Volumes/flightstats_historical_dev_azr_westus/data_contract_test/contracts/",
     "nuid": "d1da82c4-8374-4d21-bc35-820b782013fb",
     "typedWidgetInfo": {
      "autoCreated": false,
      "defaultValue": "/Volumes/flightstats_historical_dev_azr_westus/data_contract_test/contracts/",
      "label": null,
      "name": "contracts_location",
      "options": {
       "widgetDisplayType": "Text",
       "validationRegex": null
      },
      "parameterDataType": "String"
     },
     "widgetInfo": {
      "widgetType": "text",
      "defaultValue": "/Volumes/flightstats_historical_dev_azr_westus/data_contract_test/contracts/",
      "label": null,
      "name": "contracts_location",
      "options": {
       "widgetType": "text",
       "autoCreated": null,
       "validationRegex": null
      }
     }
    },
    "odcs_contract_file": {
     "currentValue": "flight_stats.yml",
     "nuid": "1f53ad3b-e4b4-4594-b4fa-9f8f7cd4f93f",
     "typedWidgetInfo": {
      "autoCreated": false,
      "defaultValue": "flight_stats.yml",
      "label": null,
      "name": "odcs_contract_file",
      "options": {
       "widgetDisplayType": "Text",
       "validationRegex": null
      },
      "parameterDataType": "String"
     },
     "widgetInfo": {
      "widgetType": "text",
      "defaultValue": "flight_stats.yml",
      "label": null,
      "name": "odcs_contract_file",
      "options": {
       "widgetType": "text",
       "autoCreated": null,
       "validationRegex": null
      }
     }
    }
   }
  },
  "language_info": {
   "name": "python"
  }
 },
 "nbformat": 4,
 "nbformat_minor": 0
}
