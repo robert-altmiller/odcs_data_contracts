{
 "cells": [
  {
   "cell_type": "code",
   "execution_count": 0,
   "metadata": {
    "application/vnd.databricks.v1+cell": {
     "cellMetadata": {},
     "inputWidgets": {},
     "nuid": "d3703000-f148-4b4b-a26d-4ea3ca393fd1",
     "showTitle": true,
     "tableResultSettingsMap": {},
     "title": "Extract Data Contract Metadata"
    }
   },
   "outputs": [],
   "source": [
    "def extract_data_contract_metadata(data_contract: dict) -> list:\n",
    "    \"\"\"\n",
    "    Extracts the high-level metadata fields from an ODCS data contract.\n",
    "    Args:\n",
    "        contract (dict): The loaded YAML data contract.\n",
    "    Returns:\n",
    "        list: A single-item list containing a dictionary with extracted fields.\n",
    "    \"\"\"\n",
    "    try:\n",
    "        result = {\n",
    "            \"name\": data_contract.get(\"name\"),\n",
    "            \"apiversion\": data_contract.get(\"apiVersion\"),  # note lowercase 'v'\n",
    "            \"kind\": data_contract.get(\"kind\"),\n",
    "            \"id\": data_contract.get(\"id\"),\n",
    "            \"version\": data_contract.get(\"version\"),\n",
    "            \"domain\": data_contract.get(\"domain\"),\n",
    "            \"status\": data_contract.get(\"status\"),\n",
    "            \"dataproduct\": data_contract.get(\"dataProduct\"),\n",
    "            \"tenant\": data_contract.get(\"tenant\"),\n",
    "            \"description\": data_contract.get(\"description\", {}),\n",
    "            \"tags\": data_contract.get(\"tags\", []),\n",
    "        }\n",
    "        return [result]\n",
    "    except: return None"
   ]
  },
  {
   "cell_type": "code",
   "execution_count": 0,
   "metadata": {
    "application/vnd.databricks.v1+cell": {
     "cellMetadata": {},
     "inputWidgets": {},
     "nuid": "59b3c953-dd89-42ad-8380-95b7ab249445",
     "showTitle": true,
     "tableResultSettingsMap": {},
     "title": "Extract Data Contract DQ Rules Metadata"
    }
   },
   "outputs": [],
   "source": [
    "def extract_quality_rules_metadata(data_contract: dict) -> dict:\n",
    "    \"\"\"\n",
    "    Extracts and cleans the quality rules from each table in a given data contract schema.\n",
    "    Args:\n",
    "        data_contract (dict): The full ODCS data contract containing a \"schema\" block.\n",
    "    Returns:\n",
    "        dict: A dictionary mapping each table name to its quality rules.\n",
    "              Format: { \"table_name\": { \"quality\": [ ... ] }, ... }\n",
    "    \"\"\"\n",
    "    try:\n",
    "        quality_dict = {}\n",
    "        for table in data_contract[\"schema\"]:\n",
    "            table_name = table.get(\"name\")\n",
    "            quality_rules = table.get(\"quality\", [])\n",
    "\n",
    "            if not quality_rules:\n",
    "                continue\n",
    "\n",
    "            formatted_quality = []\n",
    "            for rule in quality_rules:\n",
    "                rule_copy = rule.copy()\n",
    "                if \"query\" in rule_copy:\n",
    "                    rule_copy[\"query\"] = rule_copy[\"query\"].strip()\n",
    "                formatted_quality.append(rule_copy)\n",
    "\n",
    "            quality_dict[table_name] = {\"quality\": formatted_quality}\n",
    "        return quality_dict\n",
    "    except: return None"
   ]
  },
  {
   "cell_type": "code",
   "execution_count": 0,
   "metadata": {
    "application/vnd.databricks.v1+cell": {
     "cellMetadata": {},
     "inputWidgets": {},
     "nuid": "bd5d6935-310e-43fd-821e-d6feb046cccb",
     "showTitle": true,
     "tableResultSettingsMap": {},
     "title": "Extract Data Contract SLA Metadata"
    }
   },
   "outputs": [],
   "source": [
    "def extract_sla_metadata(data_contract: dict) -> list:\n",
    "    \"\"\"\n",
    "    Extracts SLA metadata from an ODCS data contract.\n",
    "    Args:\n",
    "        contract (dict): The loaded YAML or JSON data contract.\n",
    "    Returns:\n",
    "        list: A list of SLA property dictionaries with standardized keys.\n",
    "    \"\"\"\n",
    "    try:\n",
    "        sla_list = data_contract.get(\"slaProperties\", [])\n",
    "        formatted_sla = []\n",
    "\n",
    "        for item in sla_list:\n",
    "            sla = {\n",
    "                \"property\": item.get(\"property\", \"\"),\n",
    "                \"value\": item.get(\"value\"),\n",
    "                \"unit\": item.get(\"unity\", \"\"),  # unit was \"unity\" in the contract\n",
    "                \"element\": item.get(\"element\", \"\")\n",
    "            }\n",
    "            # Optionally include valueExt and driver if present\n",
    "            if \"valueExt\" in item:\n",
    "                sla[\"valueExt\"] = item[\"valueExt\"]\n",
    "            if \"driver\" in item:\n",
    "                sla[\"driver\"] = item[\"driver\"]\n",
    "            formatted_sla.append(sla)\n",
    "\n",
    "        return formatted_sla\n",
    "    except: return None"
   ]
  }
 ],
 "metadata": {
  "application/vnd.databricks.v1+notebook": {
   "computePreferences": null,
   "dashboards": [],
   "environmentMetadata": {
    "base_environment": "",
    "environment_version": "2"
   },
   "inputWidgetPreferences": null,
   "language": "python",
   "notebookMetadata": {
    "pythonIndentUnit": 4
   },
   "notebookName": "extract_helpers",
   "widgets": {}
  },
  "language_info": {
   "name": "python"
  }
 },
 "nbformat": 4,
 "nbformat_minor": 0
}
